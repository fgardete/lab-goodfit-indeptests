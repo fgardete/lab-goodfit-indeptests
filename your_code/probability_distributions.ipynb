{
  "nbformat": 4,
  "nbformat_minor": 0,
  "metadata": {
    "colab": {
      "name": "probability_distributions.ipynb",
      "provenance": [],
      "collapsed_sections": []
    },
    "kernelspec": {
      "name": "python3",
      "display_name": "Python 3"
    }
  },
  "cells": [
    {
      "cell_type": "code",
      "metadata": {
        "id": "XIOBIS0N_h39"
      },
      "source": [
        "# importing libraries\n",
        "import numpy as np\n",
        "import math\n",
        "import pandas as pd\n",
        "import matplotlib.pyplot as plt\n",
        "\n",
        "from scipy.stats import bernoulli\n",
        "from scipy.stats import binom\n",
        "from scipy.stats import geom\n",
        "from scipy.stats import poisson\n",
        "\n",
        "from scipy.stats import uniform\n",
        "from scipy.stats import expon\n",
        "from scipy.stats import norm"
      ],
      "execution_count": null,
      "outputs": []
    },
    {
      "cell_type": "markdown",
      "metadata": {
        "id": "_vnlL9EmGloP"
      },
      "source": [
        "# Discrete Distributions"
      ]
    },
    {
      "cell_type": "code",
      "metadata": {
        "id": "pYctX5ca_ZI1"
      },
      "source": [
        "#Here we are going to create an experiment of trowing 10000 pairs of dices and get the sum of the result\n",
        "\n",
        "import random\n",
        "\n",
        "throw_10000_pairsofdice = [random.randint(1,6)+random.randint(1,6) for i in range(10000)]\n",
        "#throw_10000_pairsofdice"
      ],
      "execution_count": null,
      "outputs": []
    },
    {
      "cell_type": "code",
      "metadata": {
        "colab": {
          "base_uri": "https://localhost:8080/"
        },
        "id": "eRLLlpFNnSgX",
        "outputId": "4a2c9a8d-6db1-4df6-fac8-76ddd1895ac5"
      },
      "source": [
        "#Show\n",
        "random.randint(1,6)"
      ],
      "execution_count": null,
      "outputs": [
        {
          "output_type": "execute_result",
          "data": {
            "text/plain": [
              "2"
            ]
          },
          "metadata": {},
          "execution_count": 3
        }
      ]
    },
    {
      "cell_type": "code",
      "metadata": {
        "id": "W0eqvkZ7nbcf"
      },
      "source": [
        "#Do all this numberes have the same liklyhood of happening? \n",
        "throw_10000_pairsofdice"
      ],
      "execution_count": null,
      "outputs": []
    },
    {
      "cell_type": "code",
      "metadata": {
        "id": "9DDHUSanBZf1"
      },
      "source": [
        "# Now let's create here a dictionary with the count of the results we got\n",
        "\n",
        "count_of_result = {2:0,3:0,4:0,5:0,6:0,7:0,8:0,9:0,10:0,11:0,12:0}\n",
        "for result in throw_10000_pairsofdice:\n",
        "  count_of_result[result] = count_of_result[result]+1\n",
        "#count_of_result"
      ],
      "execution_count": null,
      "outputs": []
    },
    {
      "cell_type": "code",
      "metadata": {
        "id": "CHXeuG2jB6CO",
        "colab": {
          "base_uri": "https://localhost:8080/",
          "height": 390
        },
        "outputId": "6f45db85-fa8c-43a1-9edd-35309f62a134"
      },
      "source": [
        "# let's put all into a DataFrame\n",
        "\n",
        "count_df = pd.DataFrame(pd.Series(count_of_result),columns=['count'])\n",
        "count_df"
      ],
      "execution_count": null,
      "outputs": [
        {
          "output_type": "execute_result",
          "data": {
            "text/html": [
              "<div>\n",
              "<style scoped>\n",
              "    .dataframe tbody tr th:only-of-type {\n",
              "        vertical-align: middle;\n",
              "    }\n",
              "\n",
              "    .dataframe tbody tr th {\n",
              "        vertical-align: top;\n",
              "    }\n",
              "\n",
              "    .dataframe thead th {\n",
              "        text-align: right;\n",
              "    }\n",
              "</style>\n",
              "<table border=\"1\" class=\"dataframe\">\n",
              "  <thead>\n",
              "    <tr style=\"text-align: right;\">\n",
              "      <th></th>\n",
              "      <th>count</th>\n",
              "    </tr>\n",
              "  </thead>\n",
              "  <tbody>\n",
              "    <tr>\n",
              "      <th>2</th>\n",
              "      <td>327</td>\n",
              "    </tr>\n",
              "    <tr>\n",
              "      <th>3</th>\n",
              "      <td>559</td>\n",
              "    </tr>\n",
              "    <tr>\n",
              "      <th>4</th>\n",
              "      <td>814</td>\n",
              "    </tr>\n",
              "    <tr>\n",
              "      <th>5</th>\n",
              "      <td>1080</td>\n",
              "    </tr>\n",
              "    <tr>\n",
              "      <th>6</th>\n",
              "      <td>1376</td>\n",
              "    </tr>\n",
              "    <tr>\n",
              "      <th>7</th>\n",
              "      <td>1661</td>\n",
              "    </tr>\n",
              "    <tr>\n",
              "      <th>8</th>\n",
              "      <td>1391</td>\n",
              "    </tr>\n",
              "    <tr>\n",
              "      <th>9</th>\n",
              "      <td>1108</td>\n",
              "    </tr>\n",
              "    <tr>\n",
              "      <th>10</th>\n",
              "      <td>876</td>\n",
              "    </tr>\n",
              "    <tr>\n",
              "      <th>11</th>\n",
              "      <td>537</td>\n",
              "    </tr>\n",
              "    <tr>\n",
              "      <th>12</th>\n",
              "      <td>271</td>\n",
              "    </tr>\n",
              "  </tbody>\n",
              "</table>\n",
              "</div>"
            ],
            "text/plain": [
              "    count\n",
              "2     327\n",
              "3     559\n",
              "4     814\n",
              "5    1080\n",
              "6    1376\n",
              "7    1661\n",
              "8    1391\n",
              "9    1108\n",
              "10    876\n",
              "11    537\n",
              "12    271"
            ]
          },
          "metadata": {},
          "execution_count": 9
        }
      ]
    },
    {
      "cell_type": "code",
      "metadata": {
        "id": "HpwI-s8ZDNRv",
        "colab": {
          "base_uri": "https://localhost:8080/",
          "height": 285
        },
        "outputId": "9a157d07-ca71-4dc0-917e-a5a4880271a3"
      },
      "source": [
        "## create a bar chart with the count of every result I got in my y axis\n",
        "# count_df.plot(kind='bar',y='count')\n",
        "\n",
        "## Does this make sense for everyone? "
      ],
      "execution_count": null,
      "outputs": [
        {
          "output_type": "execute_result",
          "data": {
            "text/plain": [
              "<matplotlib.axes._subplots.AxesSubplot at 0x7fa446eabd90>"
            ]
          },
          "metadata": {},
          "execution_count": 10
        },
        {
          "output_type": "display_data",
          "data": {
            "image/png": "[encoded data removed]",
            "text/plain": [
              "<Figure size 432x288 with 1 Axes>"
            ]
          },
          "metadata": {
            "needs_background": "light"
          }
        }
      ]
    },
    {
      "cell_type": "code",
      "metadata": {
        "id": "nQDHgKCMD5Pp",
        "colab": {
          "base_uri": "https://localhost:8080/",
          "height": 390
        },
        "outputId": "e2e98b6b-db91-4817-b3c5-432ff64e3797"
      },
      "source": [
        "## Now intead of having the absulute value here I'm going to comput the frequency, the percentage\n",
        "## that I get for each value.\n",
        "## How do I do this?\n",
        "\n",
        "count_df['frequency'] = count_df['count']/10000\n",
        "count_df\n",
        "\n",
        "## This means the probability of getting a 2, a 3 a 4 ...\n"
      ],
      "execution_count": null,
      "outputs": [
        {
          "output_type": "execute_result",
          "data": {
            "text/html": [
              "<div>\n",
              "<style scoped>\n",
              "    .dataframe tbody tr th:only-of-type {\n",
              "        vertical-align: middle;\n",
              "    }\n",
              "\n",
              "    .dataframe tbody tr th {\n",
              "        vertical-align: top;\n",
              "    }\n",
              "\n",
              "    .dataframe thead th {\n",
              "        text-align: right;\n",
              "    }\n",
              "</style>\n",
              "<table border=\"1\" class=\"dataframe\">\n",
              "  <thead>\n",
              "    <tr style=\"text-align: right;\">\n",
              "      <th></th>\n",
              "      <th>count</th>\n",
              "      <th>frequency</th>\n",
              "    </tr>\n",
              "  </thead>\n",
              "  <tbody>\n",
              "    <tr>\n",
              "      <th>2</th>\n",
              "      <td>327</td>\n",
              "      <td>0.0327</td>\n",
              "    </tr>\n",
              "    <tr>\n",
              "      <th>3</th>\n",
              "      <td>559</td>\n",
              "      <td>0.0559</td>\n",
              "    </tr>\n",
              "    <tr>\n",
              "      <th>4</th>\n",
              "      <td>814</td>\n",
              "      <td>0.0814</td>\n",
              "    </tr>\n",
              "    <tr>\n",
              "      <th>5</th>\n",
              "      <td>1080</td>\n",
              "      <td>0.1080</td>\n",
              "    </tr>\n",
              "    <tr>\n",
              "      <th>6</th>\n",
              "      <td>1376</td>\n",
              "      <td>0.1376</td>\n",
              "    </tr>\n",
              "    <tr>\n",
              "      <th>7</th>\n",
              "      <td>1661</td>\n",
              "      <td>0.1661</td>\n",
              "    </tr>\n",
              "    <tr>\n",
              "      <th>8</th>\n",
              "      <td>1391</td>\n",
              "      <td>0.1391</td>\n",
              "    </tr>\n",
              "    <tr>\n",
              "      <th>9</th>\n",
              "      <td>1108</td>\n",
              "      <td>0.1108</td>\n",
              "    </tr>\n",
              "    <tr>\n",
              "      <th>10</th>\n",
              "      <td>876</td>\n",
              "      <td>0.0876</td>\n",
              "    </tr>\n",
              "    <tr>\n",
              "      <th>11</th>\n",
              "      <td>537</td>\n",
              "      <td>0.0537</td>\n",
              "    </tr>\n",
              "    <tr>\n",
              "      <th>12</th>\n",
              "      <td>271</td>\n",
              "      <td>0.0271</td>\n",
              "    </tr>\n",
              "  </tbody>\n",
              "</table>\n",
              "</div>"
            ],
            "text/plain": [
              "    count  frequency\n",
              "2     327     0.0327\n",
              "3     559     0.0559\n",
              "4     814     0.0814\n",
              "5    1080     0.1080\n",
              "6    1376     0.1376\n",
              "7    1661     0.1661\n",
              "8    1391     0.1391\n",
              "9    1108     0.1108\n",
              "10    876     0.0876\n",
              "11    537     0.0537\n",
              "12    271     0.0271"
            ]
          },
          "metadata": {},
          "execution_count": 11
        }
      ]
    },
    {
      "cell_type": "code",
      "metadata": {
        "colab": {
          "base_uri": "https://localhost:8080/",
          "height": 285
        },
        "id": "x2VwnvL-ECMP",
        "outputId": "e4a859b4-30a9-488d-d48d-e3a901a3882a"
      },
      "source": [
        "count_df.plot(kind='bar',y='frequency')\n",
        "#This is the PMF for two dice (experimental)\n",
        "\n",
        "## This is what is called the EMPIRICAL APPROXIMATION (it's empirical because I did it through an experiment).\n",
        "## This is the EMPIRICAL APPROXIMATIOn of something called the PMF (probability mass function)."
      ],
      "execution_count": null,
      "outputs": [
        {
          "output_type": "execute_result",
          "data": {
            "text/plain": [
              "<matplotlib.axes._subplots.AxesSubplot at 0x7fa446682850>"
            ]
          },
          "metadata": {},
          "execution_count": 12
        },
        {
          "output_type": "display_data",
          "data": {
            "image/png": "[encoded data removed]",
            "text/plain": [
              "<Figure size 432x288 with 1 Axes>"
            ]
          },
          "metadata": {
            "needs_background": "light"
          }
        }
      ]
    },
    {
      "cell_type": "code",
      "metadata": {
        "id": "VaZqYkNtpj8O"
      },
      "source": [
        "## So if I ask you what is the probability of getting an 8 for the sum of the values got in the pair of dices,\n",
        "## you can just come here to this chart and say is rughfly 15%.\n",
        "\n",
        "## So this PMF is the chart that allows you to comput the probability of a speific value."
      ],
      "execution_count": null,
      "outputs": []
    },
    {
      "cell_type": "markdown",
      "metadata": {
        "id": "OIekR0trEODP"
      },
      "source": [
        "**Probability Mass Function (PMF)** (def) Let X be a discrete random variable with range R<sub>X</sub> = {x<sub>1</sub>, x<sub>2</sub>, ...} finite or countably infinite. The function   \n",
        "\n",
        "> P<sub>X</sub>(x<sub>k</sub>) = P(x = x<sub>k</sub>)   k = 1, ...\n",
        "\n",
        "is called Probability Mass Function."
      ]
    },
    {
      "cell_type": "code",
      "metadata": {
        "id": "SVhPugUpERSA",
        "colab": {
          "base_uri": "https://localhost:8080/",
          "height": 390
        },
        "outputId": "2df2a939-51da-47e6-c97d-8d80d744bb85"
      },
      "source": [
        "## Another common thing here is the question, what is the probability of getting a result of 8 or smaller?\n",
        "## we can do it with a method that you haven't seen before which is cumsum()\n",
        "\n",
        "count_df['cum_frequency'] = count_df['frequency'].cumsum()\n",
        "count_df"
      ],
      "execution_count": null,
      "outputs": [
        {
          "output_type": "execute_result",
          "data": {
            "text/html": [
              "<div>\n",
              "<style scoped>\n",
              "    .dataframe tbody tr th:only-of-type {\n",
              "        vertical-align: middle;\n",
              "    }\n",
              "\n",
              "    .dataframe tbody tr th {\n",
              "        vertical-align: top;\n",
              "    }\n",
              "\n",
              "    .dataframe thead th {\n",
              "        text-align: right;\n",
              "    }\n",
              "</style>\n",
              "<table border=\"1\" class=\"dataframe\">\n",
              "  <thead>\n",
              "    <tr style=\"text-align: right;\">\n",
              "      <th></th>\n",
              "      <th>count</th>\n",
              "      <th>frequency</th>\n",
              "      <th>cum_frequency</th>\n",
              "    </tr>\n",
              "  </thead>\n",
              "  <tbody>\n",
              "    <tr>\n",
              "      <th>2</th>\n",
              "      <td>327</td>\n",
              "      <td>0.0327</td>\n",
              "      <td>0.0327</td>\n",
              "    </tr>\n",
              "    <tr>\n",
              "      <th>3</th>\n",
              "      <td>559</td>\n",
              "      <td>0.0559</td>\n",
              "      <td>0.0886</td>\n",
              "    </tr>\n",
              "    <tr>\n",
              "      <th>4</th>\n",
              "      <td>814</td>\n",
              "      <td>0.0814</td>\n",
              "      <td>0.1700</td>\n",
              "    </tr>\n",
              "    <tr>\n",
              "      <th>5</th>\n",
              "      <td>1080</td>\n",
              "      <td>0.1080</td>\n",
              "      <td>0.2780</td>\n",
              "    </tr>\n",
              "    <tr>\n",
              "      <th>6</th>\n",
              "      <td>1376</td>\n",
              "      <td>0.1376</td>\n",
              "      <td>0.4156</td>\n",
              "    </tr>\n",
              "    <tr>\n",
              "      <th>7</th>\n",
              "      <td>1661</td>\n",
              "      <td>0.1661</td>\n",
              "      <td>0.5817</td>\n",
              "    </tr>\n",
              "    <tr>\n",
              "      <th>8</th>\n",
              "      <td>1391</td>\n",
              "      <td>0.1391</td>\n",
              "      <td>0.7208</td>\n",
              "    </tr>\n",
              "    <tr>\n",
              "      <th>9</th>\n",
              "      <td>1108</td>\n",
              "      <td>0.1108</td>\n",
              "      <td>0.8316</td>\n",
              "    </tr>\n",
              "    <tr>\n",
              "      <th>10</th>\n",
              "      <td>876</td>\n",
              "      <td>0.0876</td>\n",
              "      <td>0.9192</td>\n",
              "    </tr>\n",
              "    <tr>\n",
              "      <th>11</th>\n",
              "      <td>537</td>\n",
              "      <td>0.0537</td>\n",
              "      <td>0.9729</td>\n",
              "    </tr>\n",
              "    <tr>\n",
              "      <th>12</th>\n",
              "      <td>271</td>\n",
              "      <td>0.0271</td>\n",
              "      <td>1.0000</td>\n",
              "    </tr>\n",
              "  </tbody>\n",
              "</table>\n",
              "</div>"
            ],
            "text/plain": [
              "    count  frequency  cum_frequency\n",
              "2     327     0.0327         0.0327\n",
              "3     559     0.0559         0.0886\n",
              "4     814     0.0814         0.1700\n",
              "5    1080     0.1080         0.2780\n",
              "6    1376     0.1376         0.4156\n",
              "7    1661     0.1661         0.5817\n",
              "8    1391     0.1391         0.7208\n",
              "9    1108     0.1108         0.8316\n",
              "10    876     0.0876         0.9192\n",
              "11    537     0.0537         0.9729\n",
              "12    271     0.0271         1.0000"
            ]
          },
          "metadata": {},
          "execution_count": 13
        }
      ]
    },
    {
      "cell_type": "code",
      "metadata": {
        "colab": {
          "base_uri": "https://localhost:8080/",
          "height": 285
        },
        "id": "BZTikiT4EaFn",
        "outputId": "e9758335-05a6-42db-ccbd-56ac9201ba4e"
      },
      "source": [
        "count_df.plot(kind='bar',y='cum_frequency')\n",
        "#This is the CDF for two dices (experimental)\n",
        "\n",
        "## Of course this is an abstract situation here, with the dice throws, and you could ask me when do I need to use this?\n",
        "## For e.g if this was the 1000 dollares you make with a new costumer. You could ask, ok what is the probability that a\n",
        "## new costumer makes me win between 5 and 10000 dollars?\n"
      ],
      "execution_count": null,
      "outputs": [
        {
          "output_type": "execute_result",
          "data": {
            "text/plain": [
              "<matplotlib.axes._subplots.AxesSubplot at 0x7f8b7cce3950>"
            ]
          },
          "metadata": {},
          "execution_count": 14
        },
        {
          "output_type": "display_data",
          "data": {
            "image/png": "[encoded data removed]",
            "text/plain": [
              "<Figure size 432x288 with 1 Axes>"
            ]
          },
          "metadata": {
            "needs_background": "light"
          }
        }
      ]
    },
    {
      "cell_type": "code",
      "metadata": {
        "id": "xlYBQfI2sK2N"
      },
      "source": [
        "# This here is what we call the commulative Cumulative Destribution Function "
      ],
      "execution_count": null,
      "outputs": []
    },
    {
      "cell_type": "markdown",
      "metadata": {
        "id": "XQVSCOn_Eobf"
      },
      "source": [
        "\n",
        "**Cumulative Distribution Function (CDF)** (def) Let X be a random variable. The function   \n",
        "\n",
        "> F<sub>X</sub>(x) = P(X <= x) \n",
        "\n",
        "is called Cumulative Density Function."
      ]
    },
    {
      "cell_type": "markdown",
      "metadata": {
        "id": "ogi45QrdxXrZ"
      },
      "source": [
        "# Continuous Distribution\n"
      ]
    },
    {
      "cell_type": "code",
      "metadata": {
        "id": "1lqK7E4TsWzT"
      },
      "source": [
        "## What we were doing up until now was experiments where may data is DESCREATE. \n",
        "## WERE MY DATA CAN ONLY TAKE CERTAIN VALUES in a specific range.\n",
        "\n",
        "## But in real life things that you observe can take any ARBITRARY value.\n",
        "## For this situations we use continuos distributions.\n",
        "\n",
        "## And the one we will see the most in the continuos distributions is the NORMAL DISTRIBUTION.\n",
        "## The normal distribution is built upon repeating an experiment multiple multiple times \n",
        "## E.g It can be taking the hights of individuals.\n",
        "## E.g It can be a new client is comming and it has a signing value.\n",
        "\n",
        "## It's an experiment that you take and repeat and repeat many times."
      ],
      "execution_count": null,
      "outputs": []
    },
    {
      "cell_type": "code",
      "metadata": {
        "id": "YUBT1kzquBnJ"
      },
      "source": [
        "##generates an array of shape (d0, d1, ..., dn), filled with random floats sampled from a univariate “normal” (Gaussian) distribution of mean 0 and variance 1. \n",
        "\n",
        "np.random.randn(1000)"
      ],
      "execution_count": null,
      "outputs": []
    },
    {
      "cell_type": "code",
      "metadata": {
        "colab": {
          "base_uri": "https://localhost:8080/",
          "height": 265
        },
        "id": "lmM9TFknxh5j",
        "outputId": "e175149b-56ba-4dcf-e468-1f68d392ff80"
      },
      "source": [
        "## Genrate a normal distribution with location aroun 100 and std of 15 \n",
        "\n",
        "mu, sigma = 100, 15 # change std to 30. What happens ?\n",
        "x = mu + sigma * np.random.randn(1000)\n",
        "# the histogram of the data\n",
        "plt.hist(x, 50)\n",
        "plt.show()"
      ],
      "execution_count": null,
      "outputs": [
        {
          "output_type": "display_data",
          "data": {
            "image/png": "[encoded data removed]",
            "text/plain": [
              "<Figure size 432x288 with 1 Axes>"
            ]
          },
          "metadata": {
            "needs_background": "light"
          }
        }
      ]
    },
    {
      "cell_type": "code",
      "metadata": {
        "colab": {
          "base_uri": "https://localhost:8080/",
          "height": 265
        },
        "id": "9NBn8fm9xrLE",
        "outputId": "0ea000e6-b504-4b16-8acf-44e72520fb29"
      },
      "source": [
        "mu, sigma = 100, 15\n",
        "x = mu + sigma * np.random.randn(100000)\n",
        "# the histogram of the data\n",
        "plt.hist(x, 50)\n",
        "plt.show()"
      ],
      "execution_count": null,
      "outputs": [
        {
          "output_type": "display_data",
          "data": {
            "image/png": "[encoded data removed]",
            "text/plain": [
              "<Figure size 432x288 with 1 Axes>"
            ]
          },
          "metadata": {
            "needs_background": "light"
          }
        }
      ]
    },
    {
      "cell_type": "code",
      "metadata": {
        "colab": {
          "base_uri": "https://localhost:8080/",
          "height": 268
        },
        "id": "6P3-6o2fxzyR",
        "outputId": "981d6812-ac7e-4526-eb65-128cca143a1e"
      },
      "source": [
        "mu, sigma = 100, 15\n",
        "x = mu + sigma * np.random.randn(1000000)\n",
        "# the histogram of the data\n",
        "plt.hist(x, 500)\n",
        "plt.show()"
      ],
      "execution_count": null,
      "outputs": [
        {
          "output_type": "display_data",
          "data": {
            "image/png": "[encoded data removed]",
            "text/plain": [
              "<Figure size 432x288 with 1 Axes>"
            ]
          },
          "metadata": {
            "needs_background": "light"
          }
        }
      ]
    },
    {
      "cell_type": "code",
      "metadata": {
        "colab": {
          "base_uri": "https://localhost:8080/"
        },
        "id": "54Kao6w0vx9K",
        "outputId": "3bd22111-f785-4602-ac0f-dee6d937c145"
      },
      "source": [
        "## In this continuos distribution the probability of getthing the same value twice is infinitesim small. Check this:\n",
        "\n",
        "mu + sigma * np.random.randn(1)\n",
        "\n",
        "## So in this cases it doesn't make sense to ask for the probability mass function because I will never have the same \n",
        "## individual point more than once.\n",
        "## In this cases it only make sense to ask for the Comulative distribution function. \n",
        "## Which allows us to see what is the probability of getting a value between 100 and 115 for example.\n",
        "## So this is the only that makes sense when talking about continuous distributions."
      ],
      "execution_count": null,
      "outputs": [
        {
          "output_type": "execute_result",
          "data": {
            "text/plain": [
              "array([113.70670616])"
            ]
          },
          "metadata": {
            "tags": []
          },
          "execution_count": 72
        }
      ]
    },
    {
      "cell_type": "code",
      "metadata": {
        "colab": {
          "base_uri": "https://localhost:8080/"
        },
        "id": "89Y6zO6SxtDk",
        "outputId": "841fc39d-878d-4d60-f57e-3f60ea625eca"
      },
      "source": [
        "## probability of getting a value between 100 and 115:\n",
        "\n",
        "len(x[x<=115])/len(x) - len(x[x<=100])/len(x)\n",
        "\n",
        "## what is the probability of getting a value between 85 and 115?\n",
        "\n",
        "len(x[x<=115])/len(x) - len(x[x<=85])/len(x)\n"
      ],
      "execution_count": null,
      "outputs": [
        {
          "output_type": "execute_result",
          "data": {
            "text/plain": [
              "0.682425"
            ]
          },
          "metadata": {},
          "execution_count": 20
        }
      ]
    },
    {
      "cell_type": "markdown",
      "metadata": {
        "id": "guMryP5yxb0B"
      },
      "source": [
        "**Cumulative Distribution Function (CDF)** (def) of a random variable.\n",
        "> F<sub>X</sub>(x) = P(X <= x)   for all x E IR\n",
        "\n",
        "For all a <= b we have P(a < X <= b) = F <sub>X</sub>(b) - F <sub>X</sub>(a)\n",
        "\n",
        "**Expectation** is the average in probability-talk\n",
        "\n",
        "**Variance** How spread out the distribution of a random variable is. "
      ]
    },
    {
      "cell_type": "code",
      "metadata": {
        "id": "0LWcDbeD6W6P"
      },
      "source": [
        "## We know that some phenomenas don't follow a normal distribution so why do we care so much about the normal distribution?\n",
        "\n",
        "## Becausse a lot of natural phenomenas follow a very complex system where some of their components will try to pull it to one side and others to\n",
        "## another side. But the aggregated effect will\n",
        "## have something that stay in the middle, but some few times it will go to one side or another\n",
        "## let's check this example:\n",
        "## https://www.compadre.org/osp/EJSS/3965/109.htm"
      ],
      "execution_count": null,
      "outputs": []
    },
    {
      "cell_type": "code",
      "metadata": {
        "id": "4zqD4z8oJDho"
      },
      "source": [
        "## But there are other systems mainly situations that are created by humans, and in some of this situations we may want to use other distributions,\n",
        "## that are not a normal distribution.\n",
        "## And that is what we are goint to see now."
      ],
      "execution_count": null,
      "outputs": []
    },
    {
      "cell_type": "code",
      "metadata": {
        "id": "zUnQZl7JJaBe"
      },
      "source": [
        "## The first one we are goint to see is the bernuli distribution.\n",
        "## It's not exactlly a distribution but it is used to define other more interesting cases.\n",
        "\n",
        "## It essentally mesures when you have a situation where you can have either a result or it's oposit.\n",
        "## E.g flip a coin\n",
        "## E.g You pick a person in the street, or they are a potential costumer or not\n",
        "## E.g You pick a company, and they are a potential supplier or not\n",
        "## E.g You pick a transaction it either is fraudulent or not\n",
        "\n",
        "## All of this we model with a Bernulli distribution. The bernulli distribution need just one thing to be modeled.\n",
        "## And this thing is a parameter.\n",
        "\n",
        "## A PARAMETER is a number that allows you to define a distribution\n",
        "\n",
        "## And for the bernulli this parameter is the probability of sucess"
      ],
      "execution_count": null,
      "outputs": []
    },
    {
      "cell_type": "markdown",
      "metadata": {
        "id": "052WgnEWHEbG"
      },
      "source": [
        "## Bernuli\n",
        "Two events collectively exhaustive, like a coin-flip. Models a single success or failure of an experiment. The parameter p is the probability of success. \n"
      ]
    },
    {
      "cell_type": "code",
      "metadata": {
        "id": "Rm-AQZ_DGor6",
        "colab": {
          "base_uri": "https://localhost:8080/",
          "height": 503
        },
        "outputId": "23721288-134e-46d2-81af-9d235d061227"
      },
      "source": [
        "## Here I will emulate a picking certain indvidual in the street, and I know that I have a 0.8 probability that it can be \n",
        "## our cosumer \n",
        "\n",
        "from scipy.stats import bernoulli\n",
        "\n",
        "p = 0.8\n",
        "\n",
        "bernoulli_dist = bernoulli(p)\n",
        "\n",
        "## The bernuli can only take the values of 0 and 1\n",
        "\n",
        "print(bernoulli_dist.pmf(0)) #\n",
        "print(bernoulli_dist.pmf(0.5)) # \n",
        "print(bernoulli_dist.pmf(1)) # \n",
        "\n",
        "\n",
        "print(bernoulli_dist.cdf(0))\n",
        "print(bernoulli_dist.cdf(0.5))\n",
        "print(bernoulli_dist.cdf(1))\n",
        "\n",
        "\n",
        "print(bernoulli_dist.mean()) ## the mean is the expectation, is the parameter in the bernuli\n",
        "\n",
        "print(bernoulli_dist.rvs(100))\n",
        "\n",
        "# plotting\n",
        "X = bernoulli_dist.rvs(size=1000000)\n",
        "plt.hist(X, align='mid')"
      ],
      "execution_count": null,
      "outputs": [
        {
          "output_type": "stream",
          "text": [
            "0.19999999999999998\n",
            "0.0\n",
            "0.8\n",
            "0.19999999999999996\n",
            "0.19999999999999996\n",
            "1.0\n",
            "0.8\n",
            "[1 1 1 1 1 1 0 1 1 1 1 1 1 1 1 1 1 1 1 0 1 1 1 1 1 1 0 1 0 1 1 1 1 1 0 1 1\n",
            " 1 1 1 1 1 1 0 1 1 1 1 1 1 1 1 1 1 1 0 1 1 1 1 0 0 1 1 1 1 0 1 1 0 1 1 1 1\n",
            " 1 1 1 1 1 1 1 0 1 1 1 1 1 1 1 1 1 1 0 1 0 0 0 1 0 1]\n"
          ],
          "name": "stdout"
        },
        {
          "output_type": "execute_result",
          "data": {
            "text/plain": [
              "(array([199813.,      0.,      0.,      0.,      0.,      0.,      0.,\n",
              "             0.,      0., 800187.]),\n",
              " array([0. , 0.1, 0.2, 0.3, 0.4, 0.5, 0.6, 0.7, 0.8, 0.9, 1. ]),\n",
              " <a list of 10 Patch objects>)"
            ]
          },
          "metadata": {
            "tags": []
          },
          "execution_count": 42
        },
        {
          "output_type": "display_data",
          "data": {
            "image/png": "[encoded data removed]",
            "text/plain": [
              "<Figure size 432x288 with 1 Axes>"
            ]
          },
          "metadata": {
            "tags": [],
            "needs_background": "light"
          }
        }
      ]
    },
    {
      "cell_type": "code",
      "metadata": {
        "id": "o3DPBf0tLYYa"
      },
      "source": [
        "## One more interesting distribution is the Binomial distribution\n",
        "\n",
        "## In this distribution you have a certain number of trials where each individual can be either a suceess or a failure.\n",
        "## And you need to figure it our how many sucesses you will have."
      ],
      "execution_count": null,
      "outputs": []
    },
    {
      "cell_type": "markdown",
      "metadata": {
        "id": "9sUuXu0SMc60"
      },
      "source": [
        "## Binomial Distribution\n",
        "\n",
        "Probability of having k successes in n independent trials with individual success probability p."
      ]
    },
    {
      "cell_type": "code",
      "metadata": {
        "id": "PukMeBwfVnZO"
      },
      "source": [
        "#example: covid vaccines (20 suppliers) "
      ],
      "execution_count": null,
      "outputs": []
    },
    {
      "cell_type": "code",
      "metadata": {
        "id": "h-_Ioss8NwNo",
        "colab": {
          "base_uri": "https://localhost:8080/",
          "height": 384
        },
        "outputId": "258b092d-c628-420a-d531-9712ed36c48d"
      },
      "source": [
        "from scipy.stats import binom\n",
        "\n",
        "## Let's thing about this example. Before the vacines been released by compannies, the governement had to contact some suppliers \n",
        "## in order to when they are ready you can vacinante all of your population. So imagine that each companie had a probability of developing the vaine of 50%.\n",
        "## And if the governament had promise to buy to each supplier 10000 vacines and the population you need to adminester the vacine is 30000 people.\n",
        "## how many supplieres should the governament contact?\n",
        "\n",
        "## Let's say the governament contracts with 10 labs. \n",
        "## Is this enough to vacinate this 30000 people?\n",
        "\n",
        "## So what is the chance of at leat 3 labs produce the vacine? Because each lab produces 10000 vacines so if we have 3 labs producing the vacine we are ok!\n",
        "\n",
        "\n",
        "n=10\n",
        "p=0.5\n",
        "\n",
        "binomial_dist = binom(n,p)\n",
        "\n",
        "print(binomial_dist.pmf(3))\n",
        "\n",
        "print(1-binomial_dist.cdf(2)) # = binomial_dist.pmf(3) + binomial_dist.pmf(4) + binomial_dist.pmf(5) + binomial_dist.pmf(6) + binomial_dist.pmf(7) + binomial_dist.pmf(8) + binomial_dist.pmf(9) + binomial_dist.pmf(10)\n",
        "\n",
        "#attention to mean\n",
        "print(binomial_dist.mean())\n",
        "print(binomial_dist.var())\n",
        "print(binomial_dist.std())\n",
        "\n",
        "print(binomial_dist.rvs(20))\n",
        "\n",
        "x = np.arange(0,11)\n",
        "\n",
        "plt.plot(x, binomial_dist.pmf(x),\"o\")\n",
        "#plt.plot(x, binomial_dist.cdf(x),\"o\")"
      ],
      "execution_count": null,
      "outputs": [
        {
          "output_type": "stream",
          "name": "stdout",
          "text": [
            "0.11718750000000014\n",
            "0.9453125\n",
            "5.0\n",
            "2.5\n",
            "1.5811388300841898\n",
            "[5 6 5 9 5 5 6 4 6 7 8 6 5 6 6 2 6 5 8 7]\n"
          ]
        },
        {
          "output_type": "execute_result",
          "data": {
            "text/plain": [
              "[<matplotlib.lines.Line2D at 0x7f8b7c148410>]"
            ]
          },
          "metadata": {},
          "execution_count": 21
        },
        {
          "output_type": "display_data",
          "data": {
            "image/png": "[encoded data removed]",
            "text/plain": [
              "<Figure size 432x288 with 1 Axes>"
            ]
          },
          "metadata": {
            "needs_background": "light"
          }
        }
      ]
    },
    {
      "cell_type": "code",
      "metadata": {
        "id": "PNSGfkie70El",
        "colab": {
          "base_uri": "https://localhost:8080/"
        },
        "outputId": "938f4d79-5163-4973-9afd-ba9aa3f6d910"
      },
      "source": [
        "\n",
        "# Example\n",
        "# A plane has 240 seats. Each individual passenger has a 3% chance of missing it's flight. Airlines sell more tickets than they have seats available\n",
        "# this despicable practive is called overbooking\n",
        "# if the company routinely sells 245 tickets, what is the chance that they have a seats for all passenger?\n",
        "\n",
        "n=245\n",
        "p=0.97\n",
        "binomial_dist = binom(n,p)\n",
        "\n",
        "binomial_dist.cdf(240)\n",
        "\n",
        "#and if the company is willing to pay 2 refunds?\n",
        "\n",
        "binomial_dist.cdf(242)"
      ],
      "execution_count": null,
      "outputs": [
        {
          "output_type": "execute_result",
          "data": {
            "text/plain": [
              "0.9786575415135859"
            ]
          },
          "metadata": {
            "tags": []
          },
          "execution_count": 52
        }
      ]
    },
    {
      "cell_type": "code",
      "metadata": {
        "colab": {
          "base_uri": "https://localhost:8080/"
        },
        "id": "cenTYM2ucPZT",
        "outputId": "ec5f67f4-33c7-4ad9-eb3d-e5ae778562c3"
      },
      "source": [
        "# or \n",
        "\n",
        "n=245\n",
        "p=0.03\n",
        "binomial_dist = binom(n,p)\n",
        "\n",
        "1 - binomial_dist.cdf(4)\n",
        "\n",
        "\n",
        "#and if the company is willing to pay 2 refunds?\n",
        "\n",
        "1 - binomial_dist.cdf(2)"
      ],
      "execution_count": null,
      "outputs": [
        {
          "output_type": "execute_result",
          "data": {
            "text/plain": [
              "0.9786575415135859"
            ]
          },
          "metadata": {
            "tags": []
          },
          "execution_count": 51
        }
      ]
    },
    {
      "cell_type": "code",
      "metadata": {
        "id": "mP5knk4jf5N3"
      },
      "source": [
        "## Now this distribution I'm going to talk here is a distribution that tracks how many tries you have to do in order to have a sucess.\n",
        "## And this distribution is called the geometric destribution"
      ],
      "execution_count": null,
      "outputs": []
    },
    {
      "cell_type": "markdown",
      "metadata": {
        "id": "7Nhl8BlTSCjW"
      },
      "source": [
        "## Geometric Distribution\n",
        "\n",
        "Number of trials until first success. Individual trials with probability p."
      ]
    },
    {
      "cell_type": "code",
      "metadata": {
        "id": "UH5aDcuMWMu9"
      },
      "source": [
        "# example: job applications and ironhack career services "
      ],
      "execution_count": null,
      "outputs": []
    },
    {
      "cell_type": "code",
      "metadata": {
        "id": "o6M6E0y2SCJJ",
        "colab": {
          "base_uri": "https://localhost:8080/"
        },
        "outputId": "96abf298-971c-4610-8d3f-edd2a5cabb6c"
      },
      "source": [
        "from scipy.stats import geom\n",
        "\n",
        "p = 0.2 ## the prob of getting a job offer after an interview is 0.2\n",
        "\n",
        "geometric_dist = geom(p)\n",
        "\n",
        "print(geometric_dist.pmf(1)) # (0.2)\n",
        "\n",
        "print(geometric_dist.pmf(2)) # (0.8) * (0.2)\n",
        "## is this clear that this probability is smaller ?\n",
        "\n",
        "print(geometric_dist.pmf(3)) # (0.8) * (0.8) * (0.2)\n",
        "\n",
        "# what is interesting here is to see if I'm going to have a job offer before a 6 interview. Or for example I'm not interested inf I'm passing the \n",
        "# exame at my 5 try. What is interessenting is to understand what is the chance that I will pass my exame before my 6 try.\n",
        "\n",
        "#print(geometric_dist.cdf(5))\n",
        "\n",
        "#What are the chances that before the 16 inteviews I got a job offer \n",
        "print(geometric_dist.cdf(15))\n",
        "\n",
        "#What is the prob of not getting a job after 15 job interviews\n",
        "\n",
        "print(1 - geometric_dist.cdf(15))\n",
        "\n",
        "#attention to mean\n",
        "#print(geometric_dist.mean())\n",
        "#print(geometric_dist.var())\n",
        "#print(geometric_dist.std())\n",
        "\n",
        "print(geometric_dist.rvs(15))\n",
        "\n",
        "x = np.arange(1,11)\n",
        "#plt.plot(x, geometric_dist.pmf(x),\"o\")\n",
        "#plt.plot(x, geometric_dist.cdf(x),\"o\")"
      ],
      "execution_count": null,
      "outputs": [
        {
          "output_type": "stream",
          "name": "stdout",
          "text": [
            "0.2\n",
            "0.16000000000000003\n",
            "0.12800000000000003\n",
            "0.964815627911168\n",
            "0.03518437208883196\n",
            "5.0\n",
            "20.0\n",
            "4.47213595499958\n",
            "[ 2  8  3 10  3  2  1  1  2  1  2  3  1  4  6]\n"
          ]
        }
      ]
    },
    {
      "cell_type": "code",
      "metadata": {
        "id": "fEwMLzJwAWDi",
        "colab": {
          "base_uri": "https://localhost:8080/"
        },
        "outputId": "cde51552-21f1-4e7e-9dc7-4ed86552d0ef"
      },
      "source": [
        "# Example\n",
        "# quality control came to us and said that 1 in 200 cans of our tuna can factory are bad\n",
        "# we opened 250 cans and we found none was bad. It seems that QC claim defies credibility. How likely is this to happen?\n",
        "\n",
        "p=0.008\n",
        "geometric_dist = geom(p)\n",
        "\n",
        "1-geometric_dist.cdf(250)"
      ],
      "execution_count": null,
      "outputs": [
        {
          "output_type": "execute_result",
          "data": {
            "text/plain": [
              "0.13425115741143956"
            ]
          },
          "metadata": {},
          "execution_count": 14
        }
      ]
    },
    {
      "cell_type": "markdown",
      "metadata": {
        "id": "9pTUdx3ESmBH"
      },
      "source": [
        "## Poisson Distribution\n",
        "\n",
        "How many times something happens in a specific timeframe, given that we know how many are expected to happen. "
      ]
    },
    {
      "cell_type": "code",
      "metadata": {
        "id": "BNTtnqLZWSm-"
      },
      "source": [
        "# expectation is to get 10 uci patients per month, so are we safe if we have 12 beds?"
      ],
      "execution_count": null,
      "outputs": []
    },
    {
      "cell_type": "code",
      "metadata": {
        "id": "7vWUFVMDSoEK",
        "colab": {
          "base_uri": "https://localhost:8080/",
          "height": 418
        },
        "outputId": "35082b68-db0b-4921-d02b-4eafc7ccafe6"
      },
      "source": [
        "from scipy.stats import poisson\n",
        "\n",
        "\n",
        "mu = 10 # expectation per unit of time. Having then 10 uci in a month\n",
        "poisson_dist=poisson(mu)\n",
        "print(poisson_dist.pmf(10))\n",
        "print(poisson_dist.pmf(5))\n",
        "print(poisson_dist.pmf(15))\n",
        "\n",
        "print(1-poisson_dist.cdf(12))\n",
        "#print(poisson_dist.cdf(15))\n",
        "\n",
        "#attention to mean AND variance\n",
        "#print(poisson_dist.mean())\n",
        "#print(poisson_dist.var())\n",
        "#print(poisson_dist.std())\n",
        "\n",
        "print(poisson_dist.rvs(15))\n",
        "\n",
        "x = np.arange(5,16)\n",
        "plt.plot(x, poisson_dist.pmf(x),\"o\")\n",
        "#plt.plot(x, poisson_dist.cdf(x),\"o\")"
      ],
      "execution_count": null,
      "outputs": [
        {
          "output_type": "stream",
          "name": "stdout",
          "text": [
            "0.12511003572113372\n",
            "0.03783327480207079\n",
            "0.034718069630684245\n",
            "0.20844352360512552\n",
            "10.0\n",
            "10.0\n",
            "3.1622776601683795\n",
            "[ 9 10 10 10  7 10 12 19 10  8 10  7 14 10 11]\n"
          ]
        },
        {
          "output_type": "execute_result",
          "data": {
            "text/plain": [
              "[<matplotlib.lines.Line2D at 0x7fc50c1e7a50>]"
            ]
          },
          "metadata": {},
          "execution_count": 6
        },
        {
          "output_type": "display_data",
          "data": {
            "image/png": "[encoded data removed]",
            "text/plain": [
              "<Figure size 432x288 with 1 Axes>"
            ]
          },
          "metadata": {
            "needs_background": "light"
          }
        }
      ]
    },
    {
      "cell_type": "code",
      "metadata": {
        "id": "CM59vwF1DHQD",
        "colab": {
          "base_uri": "https://localhost:8080/"
        },
        "outputId": "786cdc8b-bae0-4915-900f-3467a864f79e"
      },
      "source": [
        "\n",
        "# Example\n",
        "# our call centre takes on average 2 calls per hour. \n",
        "# to be safe, we designed it to have capacity of taking 5 calls per hour\n",
        "# what is the likelyhood of being overwhelmed in an hour?\n",
        "\n",
        "mu=2\n",
        "poisson_dist=poisson(mu)\n",
        "1-poisson_dist.cdf(5)"
      ],
      "execution_count": null,
      "outputs": [
        {
          "output_type": "execute_result",
          "data": {
            "text/plain": [
              "0.016563608480614445"
            ]
          },
          "metadata": {
            "tags": []
          },
          "execution_count": 63
        }
      ]
    },
    {
      "cell_type": "code",
      "metadata": {
        "id": "wzpeBzJvDo6d",
        "colab": {
          "base_uri": "https://localhost:8080/"
        },
        "outputId": "709615ea-1130-4c24-c181-a833e58e141c"
      },
      "source": [
        "# Extra\n",
        "# what is the chance of being overwhelmed at some point during the day? Assume 12 hours of operation.\n",
        "\n",
        "p = 1-poisson_dist.cdf(5)\n",
        "n = 12\n",
        "binomial_dist = binom(n,p)\n",
        "1-binomial_dist.pmf(0)"
      ],
      "execution_count": null,
      "outputs": [
        {
          "output_type": "execute_result",
          "data": {
            "text/plain": [
              "0.1816194466978427"
            ]
          },
          "metadata": {
            "tags": []
          },
          "execution_count": 64
        }
      ]
    },
    {
      "cell_type": "markdown",
      "metadata": {
        "id": "5dn6JLn8GhnC"
      },
      "source": [
        "# Continuous Distribution\n",
        "\n",
        "**Cumulative Distribution Function (CDF)** (def) of a random variable.\n",
        "> F<sub>X</sub>(x) = P(X >= x)   for all x E IR\n",
        "\n",
        "For all a <= b we have P(a < X <= b) = F <sub>X</sub>(b) - F <sub>X</sub>(a)\n",
        "\n",
        "**Expectation** is the average in probability-talk\n",
        "\n",
        "**Variance** How spread out the distribution of a random variable is. \n",
        "\n"
      ]
    },
    {
      "cell_type": "markdown",
      "metadata": {
        "id": "jxCKG7yN_1PS"
      },
      "source": [
        "## Uniform Distribution\n",
        "\n",
        "### Standard Uniform Distribution"
      ]
    },
    {
      "cell_type": "markdown",
      "metadata": {
        "id": "iXIp_IJWGZyn"
      },
      "source": [
        "Like the Bernoulli, mostly used to build other distributions, but can be interesting to generate fair lots."
      ]
    },
    {
      "cell_type": "code",
      "metadata": {
        "id": "PF9hUHQTABbu",
        "colab": {
          "base_uri": "https://localhost:8080/",
          "height": 283
        },
        "outputId": "b54700b7-36db-4de7-fe18-eed8b3b1ce3e"
      },
      "source": [
        "# e.g. Random number generator. Every variable has an equal chance of happening. However, there is an infinite number of points that can exist.\n",
        "\n",
        "a=1\n",
        "b=3\n",
        "x = np.linspace(a,b, 100) Return evenly spaced numbers over a specified interval.\n",
        "y = uniform.pdf(x, a, b)\n",
        "plt.plot(x, y)"
      ],
      "execution_count": null,
      "outputs": [
        {
          "output_type": "execute_result",
          "data": {
            "text/plain": [
              "[<matplotlib.lines.Line2D at 0x7f4801178550>]"
            ]
          },
          "metadata": {
            "tags": []
          },
          "execution_count": 47
        },
        {
          "output_type": "display_data",
          "data": {
            "image/png": "[encoded data removed]",
            "text/plain": [
              "<Figure size 432x288 with 1 Axes>"
            ]
          },
          "metadata": {
            "tags": [],
            "needs_background": "light"
          }
        }
      ]
    },
    {
      "cell_type": "markdown",
      "metadata": {
        "id": "2hX05u3CHAev"
      },
      "source": [
        "## Exponential Distribution\n",
        "\n",
        "Used to model time until next event  in situations situations where events occur with a constant probability per unit of time: arrivals at a queue, calls at call center,  radioactive particles decay. Notice the relation with Poisson."
      ]
    },
    {
      "cell_type": "code",
      "metadata": {
        "id": "P3pfVliFW2aN"
      },
      "source": [
        "# uber example: how much time to recommend waiting\n",
        "\n",
        "## You happen to know that the expected time to wait for a uber in santa apolonia on a Saturday is 2 min.\n",
        "## And when you call a uber, ube wants to offer an extimation on how much you have to waut for a car to arraive.\n",
        "## Should ube say you ae going to wait 2 min.\n",
        "## NO!\n",
        "\n",
        "## Because if you wait 1 min you will be ok with uber, but if you wait 10 min you will be angry.\n",
        "## So what uber should say is a time that 95% of the time is the correct one. So that you only have 5% angry with you.\n",
        "## The way to do this is with an exponetial distribution \n",
        "\n"
      ],
      "execution_count": null,
      "outputs": []
    },
    {
      "cell_type": "code",
      "metadata": {
        "id": "DMv4P_-fGJuO",
        "colab": {
          "base_uri": "https://localhost:8080/",
          "height": 333
        },
        "outputId": "b13555e8-db67-4d51-9bf7-34945afc20ce"
      },
      "source": [
        "from scipy.stats import expon\n",
        "\n",
        "lambda_inv = 2 # 2 min for a car \n",
        "#lambda is the rate, lambda_inv is the expectation per time. \n",
        "#e.g. if the rate is one call every 30 mins, the expectation is 2 calls per hour (unit of time)\n",
        "exp_distribution = expon(scale=lambda_inv) \n",
        "\n",
        "#print(exp_distribution.cdf(2))\n",
        "print(exp_distribution.cdf(10))          \n",
        "print(exp_distribution.rvs(10)) \n",
        "\n",
        "# plotting\n",
        "x = np.linspace(1,10,100)\n",
        "y = exp_distribution.cdf(x)\n",
        "plt.plot(x,y)"
      ],
      "execution_count": null,
      "outputs": [
        {
          "output_type": "stream",
          "name": "stdout",
          "text": [
            "0.9932620530009145\n",
            "[0.1162769  0.09364637 0.25517564 0.92120669 0.44142543 0.77469822\n",
            " 0.4564679  0.95134267 0.50537672 1.97486552]\n"
          ]
        },
        {
          "output_type": "execute_result",
          "data": {
            "text/plain": [
              "[<matplotlib.lines.Line2D at 0x7fc50c6be110>]"
            ]
          },
          "metadata": {},
          "execution_count": 3
        },
        {
          "output_type": "display_data",
          "data": {
            "image/png": "[encoded data removed]",
            "text/plain": [
              "<Figure size 432x288 with 1 Axes>"
            ]
          },
          "metadata": {
            "needs_background": "light"
          }
        }
      ]
    },
    {
      "cell_type": "code",
      "metadata": {
        "colab": {
          "base_uri": "https://localhost:8080/"
        },
        "id": "_AVGh5zVyMiP",
        "outputId": "eb4eaac5-b91d-4185-c7f6-4068896fce8d"
      },
      "source": [
        "exp_distribution.ppf(0.95)\n",
        "exp_distribution.cdf(5.99146454710798)"
      ],
      "execution_count": null,
      "outputs": [
        {
          "output_type": "execute_result",
          "data": {
            "text/plain": [
              "0.95"
            ]
          },
          "metadata": {},
          "execution_count": 5
        }
      ]
    },
    {
      "cell_type": "code",
      "metadata": {
        "id": "S6WKs9qEIQdj",
        "colab": {
          "base_uri": "https://localhost:8080/"
        },
        "outputId": "b47f4b20-dff2-4b94-9833-c7091b11f8bd"
      },
      "source": [
        "# Example\n",
        "# the game is going great. 80 minutes in and 6 goals were already scored\n",
        "# what is the chance that another goal is scored in the next 10 mins?\n",
        "\n",
        "# unit of time = mins\n",
        "# expectation so far = 6 goals per 80 units of time = 6/80 -> rate \n",
        "\n",
        "lambda_inv = 80/6\n",
        "exp_distribution = expon(scale=lambda_inv) \n",
        "\n",
        "exp_distribution.cdf(10)\n",
        "\n",
        "#what if the game goes for 3' time compensation\n",
        "\n",
        "#exp_distribution.cdf(13)"
      ],
      "execution_count": null,
      "outputs": [
        {
          "output_type": "execute_result",
          "data": {
            "text/plain": [
              "0.622807646436843"
            ]
          },
          "metadata": {
            "tags": []
          },
          "execution_count": 43
        }
      ]
    },
    {
      "cell_type": "markdown",
      "metadata": {
        "id": "KV4SBDcZAK3B"
      },
      "source": [
        "## Gaussian Distribution\n",
        "\n",
        "Models some physical phenomena, like how the particles distribute themselves in the process of diffusion, but most importantly is the limit distribution for many repetitions of trials and even more importantly, for the distribution of errors centered around the mean (CLT)\n",
        "\n"
      ]
    },
    {
      "cell_type": "code",
      "metadata": {
        "id": "bFPxuWYQAOYJ",
        "colab": {
          "base_uri": "https://localhost:8080/",
          "height": 265
        },
        "outputId": "991bb963-446e-48ab-bb29-092a8ca99fa8"
      },
      "source": [
        "mu=0\n",
        "sigma=1\n",
        "normal_dist = norm(mu, sigma) \n",
        "\n",
        "#print(normal_dist.pdf(2))\n",
        "#print(normal_dist.cdf(4))       \n",
        "#print(normal_dist.rvs(15)) \n",
        "\n",
        "# plotting\n",
        "x = np.linspace(-5,5,1000)\n",
        "y = norm.pdf(x) # pdf is the same as the pmf for the continuous distributions\n",
        "plt.plot(x,y)\n",
        "plt.show()"
      ],
      "execution_count": null,
      "outputs": [
        {
          "output_type": "display_data",
          "data": {
            "image/png": "[encoded data removed]",
            "text/plain": [
              "<Figure size 432x288 with 1 Axes>"
            ]
          },
          "metadata": {
            "tags": [],
            "needs_background": "light"
          }
        }
      ]
    }
  ]
}