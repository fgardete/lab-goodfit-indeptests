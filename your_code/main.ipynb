{
 "cells": [
  {
   "cell_type": "markdown",
   "metadata": {},
   "source": [
    "## Question 1\n",
    "The following table indicates the number of 6-point scores in an American rugby match in the 1979 season.\n",
    "\n",
    "![](table1.png)\n",
    "\n",
    "Based on these results, we create a Poisson distribution with the sample mean parameter  = 2.435. Is there any reason to believe that at a .05 level the number of scores is a Poisson variable?"
   ]
  },
  {
   "cell_type": "code",
   "execution_count": 3,
   "metadata": {},
   "outputs": [
    {
     "name": "stdout",
     "output_type": "stream",
     "text": [
      "448\n",
      "[ 39.24379068  95.5586303  116.34263239  94.43143662  57.48513704\n",
      "  27.99526174  11.36141039   5.58170083]\n"
     ]
    },
    {
     "data": {
      "text/plain": [
       "False"
      ]
     },
     "execution_count": 3,
     "metadata": {},
     "output_type": "execute_result"
    }
   ],
   "source": [
    "# your answer here\n",
    "from scipy import stats\n",
    "import numpy as np\n",
    "\n",
    "## H0: mu == poisson variable\n",
    "alpha = 0.05  ## significance level\n",
    "\n",
    "## call poisson distribution\n",
    "mu = 2.435\n",
    "poisson_distribution = stats.poisson(mu)\n",
    "\n",
    "## get our observed values\n",
    "O = [35,99,104,110,62,25,10,3]\n",
    "tot =sum(O)\n",
    "print(tot)\n",
    "\n",
    "## get our expected values\n",
    "poisson_pmfs = np.array([poisson_distribution.pmf(i) for i in range(7)])\n",
    "E = np.append(poisson_pmfs,1-poisson_pmfs.sum()) * tot\n",
    "print(E)\n",
    "\n",
    "## chi-square\n",
    "#stat, p_value, ddof, expected_table= \n",
    "stat, p_value=stats.chisquare([35,99,104,110,62,25,10,3],f_exp=E)\n",
    "p_value=0.4836889068537269\n",
    "p_value<alpha\n",
    "\n",
    "# We can not reject the null hipothesis."
   ]
  },
  {
   "cell_type": "markdown",
   "metadata": {},
   "source": [
    "## BONUS/OPTIONAL - Question 2\n",
    "Let's analyze a discrete distribution. To analyze the number of defective items in a factory in the city of Medellín, we took a random sample of n = 60 articles and observed the number of defectives in the following table:\n",
    "\n",
    "![](table2.png)\n",
    "\n",
    "A poissón distribution was proposed since it is defined for x = 0,1,2,3, .... using the following model:\n",
    "\n",
    "![](image1.png)\n",
    "\n",
    "For some extra insights check the following link: https://online.stat.psu.edu/stat504/node/63/ \n",
    "\n",
    "Does the distribution of defective items follow this distribution?"
   ]
  },
  {
   "cell_type": "code",
   "execution_count": null,
   "metadata": {},
   "outputs": [],
   "source": [
    "# your code here"
   ]
  },
  {
   "cell_type": "markdown",
   "metadata": {},
   "source": [
    "## Question 3\n",
    "A quality control engineer takes a sample of 10 tires that come out of an assembly line, and would like to verify on the basis of the data that follows, if the number of tires with defects observed over 200 days, if it is true that 5% of all tires have defects (that is, if the sample comes from a binomial population with n = 10 and p = 0.05). \n",
    "\n",
    "![](table3.png)\n"
   ]
  },
  {
   "cell_type": "code",
   "execution_count": 4,
   "metadata": {},
   "outputs": [
    {
     "data": {
      "text/plain": [
       "8.30617951954273"
      ]
     },
     "metadata": {},
     "output_type": "display_data"
    },
    {
     "data": {
      "text/plain": [
       "0.015715783395951474"
      ]
     },
     "metadata": {},
     "output_type": "display_data"
    },
    {
     "data": {
      "text/plain": [
       "True"
      ]
     },
     "execution_count": 4,
     "metadata": {},
     "output_type": "execute_result"
    }
   ],
   "source": [
    "# your answer here\n",
    "from scipy import stats\n",
    "import numpy as np\n",
    "\n",
    "## H0: mu ==> binomial variable\n",
    "alpha = 0.05 \n",
    "\n",
    "## get our observed values\n",
    "O1 = [138,53,9]\n",
    "tot = sum(O1)\n",
    "\n",
    "## call binomial distribution\n",
    "n=10\n",
    "p=0.05\n",
    "binomial_dist = stats.binom(n,p)\n",
    "\n",
    "## get our expected values\n",
    "binomial_pmfs = np.array([binomial_dist.pmf(i) for i in range(2)])\n",
    "E1 = np.append(binomial_pmfs,1-binomial_pmfs.sum())*tot\n",
    "\n",
    "## chi-square\n",
    "stat, p_value=stats.chisquare(O1,E1)\n",
    "\n",
    "display(stat)\n",
    "display(p_value)\n",
    "\n",
    "\n",
    "p_value<alpha\n",
    "\n",
    "# We can reject the null hipothesis.\n",
    "\n",
    "\n"
   ]
  },
  {
   "cell_type": "markdown",
   "metadata": {},
   "source": [
    "## Question 4\n",
    "A researcher gathers information about the patterns of Physical Activity of children in the fifth grade of primary school of a public school. He defines three categories of physical activity (Low, Medium, High). He also inquires about the regular consumption of sugary drinks at school, and defines two categories (Yes = consumed, No = not consumed). We would like to evaluate if there is an association between patterns of physical activity and the consumption of sugary drinks for the children of this school, at a level of 5% significance. The results are in the following table: \n",
    "\n",
    "![](table4.png)"
   ]
  },
  {
   "cell_type": "code",
   "execution_count": 9,
   "metadata": {},
   "outputs": [
    {
     "data": {
      "text/plain": [
       "(10.712198008709638,\n",
       " 0.004719280137040844,\n",
       " 2,\n",
       " array([[24.08421053, 19.91578947],\n",
       "        [19.70526316, 16.29473684],\n",
       "        [ 8.21052632,  6.78947368]]))"
      ]
     },
     "metadata": {},
     "output_type": "display_data"
    },
    {
     "data": {
      "text/plain": [
       "True"
      ]
     },
     "execution_count": 9,
     "metadata": {},
     "output_type": "execute_result"
    }
   ],
   "source": [
    "#your answer here\n",
    "\n",
    "from scipy import stats\n",
    "import numpy as np\n",
    "\n",
    "## H0: association\n",
    "alpha = 0.05  \n",
    "\n",
    "## Table\n",
    "table = np.array([[32,12],[14,22],[6,9]])\n",
    "\n",
    "## chi-square\n",
    "chisquare=stats.chi2_contingency(np.array(table))\n",
    "display(chisquare)\n",
    "\n",
    "p_value= 0.004719280137040844\n",
    "p_value<alpha\n",
    "\n",
    "# We can reject the null hipothesis.\n"
   ]
  },
  {
   "cell_type": "code",
   "execution_count": null,
   "metadata": {},
   "outputs": [],
   "source": []
  }
 ],
 "metadata": {
  "kernelspec": {
   "display_name": "Python 3",
   "language": "python",
   "name": "python3"
  },
  "language_info": {
   "codemirror_mode": {
    "name": "ipython",
    "version": 3
   },
   "file_extension": ".py",
   "mimetype": "text/x-python",
   "name": "python",
   "nbconvert_exporter": "python",
   "pygments_lexer": "ipython3",
   "version": "3.8.8"
  }
 },
 "nbformat": 4,
 "nbformat_minor": 2
}
